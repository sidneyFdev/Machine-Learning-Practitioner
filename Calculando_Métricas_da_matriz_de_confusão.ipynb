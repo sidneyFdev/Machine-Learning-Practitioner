{
  "nbformat": 4,
  "nbformat_minor": 0,
  "metadata": {
    "colab": {
      "provenance": [],
      "authorship_tag": "ABX9TyMyNVUDNh49x8rqgipHSYVz",
      "include_colab_link": true
    },
    "kernelspec": {
      "name": "python3",
      "display_name": "Python 3"
    },
    "language_info": {
      "name": "python"
    }
  },
  "cells": [
    {
      "cell_type": "markdown",
      "metadata": {
        "id": "view-in-github",
        "colab_type": "text"
      },
      "source": [
        "<a href=\"https://colab.research.google.com/github/sidneyFdev/-M-tricas-de-Avalia-o-de-Aprendizado-de-Machine-Learning-com-Python/blob/main/Calculando_M%C3%A9tricas_da_matriz_de_confus%C3%A3o.ipynb\" target=\"_parent\"><img src=\"https://colab.research.google.com/assets/colab-badge.svg\" alt=\"Open In Colab\"/></a>"
      ]
    },
    {
      "cell_type": "markdown",
      "source": [],
      "metadata": {
        "id": "ToXiOJuzrmXz"
      }
    },
    {
      "cell_type": "markdown",
      "source": [
        "# Projeto - Cálculo de Métricas de Avaliação de Aprendizado\n",
        "## Importando bibliotecas necessárias\n",
        "Neste passo, vamos importar as bibliotecas necessárias: numpy para a criação dos arrays, pandas e seaborn para manipulação e visualização da matriz de confusão, e matplotlib.pyplot para exibição dos gráficos.\n",
        "\n",
        "Como o objetivo deste projeto é somente entender como funcionam os calculos das matrizes, será utilizado uma matriz simples de duas colunas e duas linhas."
      ],
      "metadata": {
        "id": "5vCTX_Xqrro5"
      }
    },
    {
      "cell_type": "code",
      "execution_count": 1,
      "metadata": {
        "id": "6AjMLS6fjaAy"
      },
      "outputs": [],
      "source": [
        "from sklearn.metrics import confusion_matrix\n",
        "import matplotlib.pyplot as plt\n",
        "import numpy as np\n",
        "import seaborn as sns\n",
        "import pandas as pd"
      ]
    },
    {
      "cell_type": "markdown",
      "source": [
        "## Criando a matriz de confusão\n",
        "\n",
        "Neste passo, geramos os valores de preditivos positivos e reais positivos utilizando o numpy, com uma amostra de 100 dados aleatórios entre 0 e 1.\n",
        "\n",
        "Em seguida, montamos um DataFrame com pandas e, com ele, geramos a matriz de confusão, que será exibida como um mapa de calor na tela."
      ],
      "metadata": {
        "id": "cFpruWTRsD4V"
      }
    },
    {
      "cell_type": "code",
      "source": [
        "y_real = np.random.randint(0, 2, size=100)\n",
        "\n",
        "y_pred = np.random.randint(0, 2, size=100)\n",
        "\n",
        "cm = confusion_matrix(y_real, y_pred)\n",
        "\n",
        "cm_df = pd.DataFrame(cm, columns=[\"Predito Positivo\", \"Predito Negativo\"],\n",
        "                     index=[\"Real Positivo\", \"Real Negativo\"])\n",
        "print('Dados para a matriz de confusão:')\n",
        "print(f'Verdedeiro positivo:\\n\\n{y_real[:10]} ...\\n')\n",
        "print(f'Predito positivo: \\n\\n{y_pred[:10]} ...\\n')\n",
        "\n",
        "print(\"Matriz de Confusão:\\n\")\n",
        "\n",
        "figure = plt.figure(figsize=(5, 5))\n",
        "sns.heatmap(cm_df, annot=True, cmap=plt.cm.RdBu)\n",
        "\n",
        "plt.tight_layout()\n",
        "plt.ylabel('True label')\n",
        "plt.xlabel('Predicted label')\n",
        "plt.show()"
      ],
      "metadata": {
        "colab": {
          "base_uri": "https://localhost:8080/",
          "height": 717
        },
        "id": "yBDptTLJlFZw",
        "outputId": "9b6ac6d3-ba3a-4e97-a52c-f7f6eaacdb2e"
      },
      "execution_count": 2,
      "outputs": [
        {
          "output_type": "stream",
          "name": "stdout",
          "text": [
            "Dados para a matriz de confusão:\n",
            "Verdedeiro positivo:\n",
            "\n",
            "[0 0 1 1 0 0 0 1 1 0] ...\n",
            "\n",
            "Predito positivo: \n",
            "\n",
            "[0 0 0 1 1 0 0 1 0 1] ...\n",
            "\n",
            "Matriz de Confusão:\n",
            "\n"
          ]
        },
        {
          "output_type": "display_data",
          "data": {
            "text/plain": [
              "<Figure size 500x500 with 2 Axes>"
            ],
            "image/png": "[encoded data removed]"
          },
          "metadata": {}
        }
      ]
    },
    {
      "cell_type": "markdown",
      "source": [
        "## Funções de calculo\n",
        "\n",
        "Nesta etapa, criaremos as cinco funções responsáveis pelo cálculo das principais métricas de avaliação de aprendizado, que são:\n",
        "\n",
        "- Sensibilidade\n",
        "- Especificidade\n",
        "- Acurácia\n",
        "- Precisão\n",
        "- F-Score"
      ],
      "metadata": {
        "id": "3KVIlDfFsV2-"
      }
    },
    {
      "cell_type": "code",
      "source": [
        "## Guias de nomes:\n",
        "# VP - Verdadeiro Positivo\n",
        "# VN - Verdadeiro Negativo\n",
        "# FP - Falso Positivo\n",
        "# FN - Falso Negativo\n",
        "# P - Precisão\n",
        "# S - sensibilidade\n",
        "# N - Total de elementos\n",
        "\n",
        "def cm_sensibility_calc(VP, FN):\n",
        "    return VP / (VP + FN)\n",
        "\n",
        "def cm_specificity_calc(VN, FP):\n",
        "    return VN / (VN + FP)\n",
        "\n",
        "def cm_accuracy_calc(VP, VN, FP, FN):\n",
        "    N = VP + VN + FP + FN\n",
        "    return (VP + VN) / N\n",
        "\n",
        "def cm_precision_calc(VP, FP):\n",
        "    return VP / (VP + FP)\n",
        "\n",
        "def cm_fscore_calc(P, R):\n",
        "    return 2 * ((P * R) / (P + R))"
      ],
      "metadata": {
        "id": "Lgd1znthm9mB"
      },
      "execution_count": 3,
      "outputs": []
    },
    {
      "cell_type": "markdown",
      "source": [
        "## Calculando nossa matriz de confusão\n",
        "\n",
        "Nesta etapa, extraímos os valores da matriz de confusão (armazenados no DataFrame) e os utilizamos para calcular as métricas de avaliação, conforme os nomes definidos no passo anterior.\n"
      ],
      "metadata": {
        "id": "PGoGHpqbsq5n"
      }
    },
    {
      "cell_type": "code",
      "source": [
        "cm_sensibility = cm_sensibility_calc(cm_df['Predito Positivo']['Real Positivo'], cm_df['Predito Negativo']['Real Negativo'])\n",
        "cm_specificity = cm_specificity_calc(cm_df['Predito Negativo']['Real Negativo'], cm_df['Predito Positivo']['Real Negativo'])\n",
        "cm_accuracy = cm_accuracy_calc(cm_df['Predito Positivo']['Real Positivo'], cm_df['Predito Positivo']['Real Negativo'],\n",
        "                               cm_df['Predito Negativo']['Real Positivo'], cm_df['Predito Negativo']['Real Negativo'])\n",
        "cm_precision = cm_precision_calc(cm_df['Predito Positivo']['Real Positivo'], cm_df['Predito Negativo']['Real Negativo'])\n",
        "cm_fscore = cm_fscore_calc(cm_precision, cm_sensibility)\n",
        "\n",
        "print(f'Métrica de sensibilidade: {cm_sensibility}')\n",
        "print(f'Métrica de especificidade: {cm_specificity}')\n",
        "print(f'Métrica de acurácia: {cm_accuracy}')\n",
        "print(f'Métrica de precisão: {cm_precision}')\n",
        "print(f'Métrica de F-Score: {cm_fscore}')\n"
      ],
      "metadata": {
        "colab": {
          "base_uri": "https://localhost:8080/"
        },
        "id": "uLw4FQFnnxSn",
        "outputId": "6d587df2-82ee-47e8-e54c-31f6519ff278"
      },
      "execution_count": 4,
      "outputs": [
        {
          "output_type": "stream",
          "name": "stdout",
          "text": [
            "Métrica de sensibilidade: 0.6222222222222222\n",
            "Métrica de especificidade: 0.4722222222222222\n",
            "Métrica de acurácia: 0.47\n",
            "Métrica de precisão: 0.6222222222222222\n",
            "Métrica de F-Score: 0.6222222222222222\n"
          ]
        }
      ]
    }
  ]
}