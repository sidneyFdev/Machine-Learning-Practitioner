{
 "cells": [
  {
   "cell_type": "markdown",
   "metadata": {
    "colab_type": "text",
    "id": "view-in-github"
   },
   "source": [
    "<a href=\"https://colab.research.google.com/github/sidneyFdev/Dio-me_Transfer_Learning_Class_Project_01/blob/main/ML_Transfer_Learning_em_Python.ipynb\" target=\"_parent\"><img src=\"https://colab.research.google.com/assets/colab-badge.svg\" alt=\"Open In Colab\"/></a>"
   ]
  },
  {
   "cell_type": "markdown",
   "metadata": {
    "id": "ccwanTnK0qAp"
   },
   "source": [
    "#Desafio DIO.ME - Transfer Learning em Python\n",
    "## Passos de preparação"
   ]
  },
  {
   "cell_type": "markdown",
   "metadata": {
    "id": "z3K9yJkMu9AT"
   },
   "source": [
    "##Download das imagens para o projeto.\n",
    "\n",
    "Antes de iniciar o codigo Python, devemos fazer o download das imagens. No meu exemplo estou usando o repositório da Microsoft 'Cats and Dogs', que possui mais de 10000 imagens para cada um, extraindo o arquivo ZIP e removendo-o do projeto em seguida.\n",
    "\n",
    "Logo abaixo, também faremos download de poucas imagens para diretórios de testes para verificar a precisão do aprendizado."
   ]
  },
  {
   "cell_type": "code",
   "execution_count": null,
   "metadata": {
    "colab": {
     "base_uri": "https://localhost:8080/"
    },
    "collapsed": true,
    "id": "DCUbJ-4wKPZw",
    "outputId": "88fe7e08-5a03-4bb4-eecc-70cccf61224a"
   },
   "outputs": [
    {
     "name": "stdout",
     "output_type": "stream",
     "text": [
      "--2025-02-16 17:34:18--  https://download.microsoft.com/download/3/E/1/3E1C3F21-ECDB-4869-8368-6DEBA77B919F/kagglecatsanddogs_5340.zip\n",
      "Resolving download.microsoft.com (download.microsoft.com)... 23.213.150.23, 2600:1408:c400:168a::317f, 2600:1408:c400:1680::317f\n",
      "Connecting to download.microsoft.com (download.microsoft.com)|23.213.150.23|:443... connected.\n",
      "HTTP request sent, awaiting response... 200 OK\n",
      "Length: 824887076 (787M) [application/octet-stream]\n",
      "Saving to: ‘kagglecatsanddogs_5340.zip’\n",
      "\n",
      "kagglecatsanddogs_5 100%[===================>] 786.67M   113MB/s    in 9.1s    \n",
      "\n",
      "2025-02-16 17:34:27 (86.6 MB/s) - ‘kagglecatsanddogs_5340.zip’ saved [824887076/824887076]\n",
      "\n",
      "Extraindo imagens do arquivo ZIP...\n",
      "Removendo arquivo ZIP.\n"
     ]
    }
   ],
   "source": [
    "!wget https://download.microsoft.com/download/3/E/1/3E1C3F21-ECDB-4869-8368-6DEBA77B919F/kagglecatsanddogs_5340.zip\n",
    "!echo 'Extraindo imagens do arquivo ZIP...'\n",
    "!unzip -q kagglecatsanddogs_5340.zip\n",
    "!echo 'Removendo arquivo ZIP.'\n",
    "!rm -rf kagglecatsanddogs_5340.zip"
   ]
  },
  {
   "cell_type": "markdown",
   "metadata": {
    "id": "Jltz8zAp0_hw"
   },
   "source": [
    "### Importando as bibliotecas\n",
    "\n",
    "Neste passo, estaremos importando as bibliotecas necessárias para utilização neste projeto.\n",
    "\n",
    "Uma observação sobre este passo comparado ao exemplo mostrado durante as aulas é que do keras, devemos importar as ferramentas como keras.api, caso contrário, não irá funcionar."
   ]
  },
  {
   "cell_type": "code",
   "execution_count": null,
   "metadata": {
    "id": "qbRsCFtMugw9"
   },
   "outputs": [],
   "source": [
    "%matplotlib inline\n",
    "import random\n",
    "import numpy as np\n",
    "import keras\n",
    "import os\n",
    "import matplotlib.pyplot as plt\n",
    "from matplotlib.pyplot import imshow\n",
    "from keras.api.applications.imagenet_utils import preprocess_input\n",
    "from keras.api.utils import load_img, img_to_array\n",
    "from keras.api.models import Sequential, Model\n",
    "from keras.api.layers import Dense, Dropout, Flatten, Activation, Conv2D, MaxPooling2D"
   ]
  },
  {
   "cell_type": "markdown",
   "metadata": {
    "id": "oo84Ysck1c4y"
   },
   "source": [
    "###Definindo variaveis que serão usadas durante o projeto\n",
    "\n",
    "Aqui estamos definindo quais categorias iremos analisar (neste exemplo, gatos e cachorros), qual pasta estão as imagens para treinamento, validação e teste, além dos números de divisão entre o treinamento de acordo com o total de imagens."
   ]
  },
  {
   "cell_type": "code",
   "execution_count": null,
   "metadata": {
    "id": "ZzBOheCvSfrj"
   },
   "outputs": [],
   "source": [
    "data_folder = 'PetImages'\n",
    "train_split, val_split = 0.7, 0.15\n",
    "categories = [x[0] for x in os.walk(data_folder) if x[0]][1:]"
   ]
  },
  {
   "cell_type": "markdown",
   "metadata": {
    "id": "qn7WFPGI2Fm2"
   },
   "source": [
    "### Diminuindo quantidade de dados processados\n",
    "\n",
    "Durante a realização dos testes, não consegui finalizar o treinamento com todas as imagens, pois os 25000 imagens em processamento excediam a quantidade de RAM utilizada no Google Colab.\n",
    "\n",
    "Há outras soluções para resolver este problema, porém como este projeto é somente para estudo, removi 90% das imagens para manter o processamento mais leve."
   ]
  },
  {
   "cell_type": "code",
   "execution_count": null,
   "metadata": {
    "colab": {
     "base_uri": "https://localhost:8080/"
    },
    "id": "PqOhv11oSIfd",
    "outputId": "a291cccd-610a-440a-8fa9-a7d59e05fde8"
   },
   "outputs": [
    {
     "name": "stdout",
     "output_type": "stream",
     "text": [
      "Total de imagens em Cat: 12500\n",
      "Total de imagens en Cat após a diminuição de 1/10: 1251\n",
      "Total de imagens em Dog: 12500\n",
      "Total de imagens en Dog após a diminuição de 1/10: 1251\n"
     ]
    }
   ],
   "source": [
    "for category in os.listdir(data_folder ):\n",
    "    all_images = []\n",
    "    category_path = os.path.join(data_folder , category)\n",
    "    if os.path.isdir(category_path):\n",
    "        all_images.extend([os.path.join(category_path, f) for f in os.listdir(category_path)\n",
    "                           if os.path.splitext(f)[1].lower() in ['.jpg', '.png', '.jpeg']])\n",
    "    print(f\"Total de imagens em {category}: {len(all_images)}\")\n",
    "    random.shuffle(all_images)\n",
    "    removable_images = all_images[len(all_images) // 10:]\n",
    "    for img_path in removable_images:\n",
    "        os.remove(img_path)\n",
    "    print(f'Total de imagens en {category} após a diminuição de 1/10: {len(os.listdir(category_path))}')"
   ]
  },
  {
   "cell_type": "markdown",
   "metadata": {
    "id": "Em7kR_5P2pNy"
   },
   "source": [
    "## Inicio do processamento das imagens\n",
    "### Função base\n",
    "\n",
    "Dando inicio a leitura do dataset, neste passo definimos a função que lerá cada uma das imagens através do caminoh da mesma em sistema."
   ]
  },
  {
   "cell_type": "code",
   "execution_count": null,
   "metadata": {
    "id": "L2uPo-e6MhpM"
   },
   "outputs": [],
   "source": [
    "def load_image(path):\n",
    "    img = load_img(path, target_size=(224, 224))\n",
    "    x = img_to_array(img)\n",
    "    x = np.expand_dims(x, axis=0)\n",
    "    x = preprocess_input(x)\n",
    "    return img, x"
   ]
  },
  {
   "cell_type": "markdown",
   "metadata": {
    "id": "1MaDtnEg22DV"
   },
   "source": [
    "### Armazenando todas as imagens na variável DATA.\n",
    "\n",
    "Através do código a seguir, iniciamos dois loops para checar todas as imagens no diretório de imagens, sendo uma para cada categória e outra para cada imagem dentro da categoria."
   ]
  },
  {
   "cell_type": "code",
   "execution_count": null,
   "metadata": {
    "id": "409SWjFcM4-7"
   },
   "outputs": [],
   "source": [
    "data = []\n",
    "for c, category in enumerate(categories):\n",
    "  images = [os.path.join(dp, f) for dp, dn, filenames\n",
    "            in os.walk(category) for f in filenames\n",
    "            if os.path.splitext(f)[1].lower() in ['.jpg', '.png', '.jpeg']]\n",
    "  for img_path in images:\n",
    "    try:\n",
    "      img, x = load_image(img_path)\n",
    "      data.append({'x':np.array(x[0]), 'y':c})\n",
    "    except Exception as e:\n",
    "      print(f\"Não foi possível carregar a imagem {img_path}\")\n",
    "      print(e)\n",
    "num_classes = len(categories)\n",
    "random.shuffle(data)"
   ]
  },
  {
   "cell_type": "markdown",
   "metadata": {
    "id": "uljY7pCZ3GUY"
   },
   "source": [
    "### Delimitando quantas serão as imagens de treinamento, validação e teste automatizado\n",
    "\n",
    "Nestas 4 etapas de codigo, definiremos quais arquivos serão utilizados para cada etapa do processo, além de construir a base para nossa rede neural que será capaz de identificar e classificar os itens do dataset."
   ]
  },
  {
   "cell_type": "code",
   "execution_count": null,
   "metadata": {
    "id": "cCsT4FrCQDUb"
   },
   "outputs": [],
   "source": [
    "idx_val = int(train_split * len(data))\n",
    "idx_test = int((train_split + val_split) * len(data))\n",
    "train = data[:idx_val]\n",
    "val = data[idx_val:idx_test]\n",
    "test = data[idx_test:]"
   ]
  },
  {
   "cell_type": "code",
   "execution_count": null,
   "metadata": {
    "id": "yngB7zQhM5dC"
   },
   "outputs": [],
   "source": [
    "x_train, y_train = np.array([t[\"x\"] for t in train]), [t[\"y\"] for t in train]\n",
    "x_val, y_val = np.array([t[\"x\"] for t in val]), [t[\"y\"] for t in val]\n",
    "x_test, y_test = np.array([t[\"x\"] for t in test]), [t[\"y\"] for t in test]"
   ]
  },
  {
   "cell_type": "code",
   "execution_count": null,
   "metadata": {
    "colab": {
     "base_uri": "https://localhost:8080/"
    },
    "id": "mNX9ZaEtXT_I",
    "outputId": "ad6974bf-e5b8-49c5-d943-f36ec8c39711"
   },
   "outputs": [
    {
     "name": "stdout",
     "output_type": "stream",
     "text": [
      "(375, 2)\n"
     ]
    }
   ],
   "source": [
    "x_train = x_train.astype('float32') / 255.\n",
    "x_val = x_val.astype('float32') / 255.\n",
    "x_test = x_test.astype('float32') / 255.\n",
    "\n",
    "y_train = keras.utils.to_categorical(y_train, num_classes)\n",
    "y_val = keras.utils.to_categorical(y_val, num_classes)\n",
    "y_test = keras.utils.to_categorical(y_test, num_classes)"
   ]
  },
  {
   "cell_type": "code",
   "execution_count": null,
   "metadata": {
    "colab": {
     "base_uri": "https://localhost:8080/",
     "height": 841
    },
    "id": "ec08O8KNfr2y",
    "outputId": "5a470d3f-2bf3-4938-8be5-3a8c572f3a94"
   },
   "outputs": [],
   "source": [
    "model = Sequential()\n",
    "print(\"Dimensções de entrada: \",x_train.shape[1:])\n",
    "\n",
    "model.add(Conv2D(32, (3, 3), input_shape=x_train.shape[1:]))\n",
    "model.add(Activation('relu'))\n",
    "model.add(MaxPooling2D(pool_size=(2, 2)))\n",
    "\n",
    "model.add(Conv2D(32, (3, 3)))\n",
    "model.add(Activation('relu'))\n",
    "model.add(MaxPooling2D(pool_size=(2, 2)))\n",
    "\n",
    "model.add(Dropout(0.25))\n",
    "\n",
    "model.add(Conv2D(32, (3, 3)))\n",
    "model.add(Activation('relu'))\n",
    "model.add(MaxPooling2D(pool_size=(2, 2)))\n",
    "\n",
    "model.add(Conv2D(32, (3, 3)))\n",
    "model.add(Activation('relu'))\n",
    "model.add(MaxPooling2D(pool_size=(2, 2)))\n",
    "\n",
    "model.add(Dropout(0.25))\n",
    "\n",
    "model.add(Flatten())\n",
    "model.add(Dense(256))\n",
    "model.add(Activation('relu'))\n",
    "\n",
    "model.add(Dropout(0.5))\n",
    "\n",
    "model.add(Dense(num_classes))\n",
    "model.add(Activation('softmax'))\n",
    "\n",
    "model.summary()"
   ]
  },
  {
   "cell_type": "markdown",
   "metadata": {
    "id": "bYgpQOSo4AHw"
   },
   "source": [
    "## Inicio do treinamento\n",
    "### Treinando o modelo\n",
    "\n",
    "A partir daqui, iremos treinar nosso modelo utilizando 100 epocas que provavelmente serão o suficiente para este exepmlo, definidas no código abaixo com o otimizador ADAM."
   ]
  },
  {
   "cell_type": "code",
   "execution_count": null,
   "metadata": {
    "colab": {
     "base_uri": "https://localhost:8080/"
    },
    "id": "onBh8O_AfxoZ",
    "outputId": "24a5a89c-f952-4439-de29-9f1863b4d82c"
   },
   "outputs": [
    {
     "name": "stdout",
     "output_type": "stream",
     "text": [
      "Epoch 1/10\n",
      "\u001b[1m14/14\u001b[0m \u001b[32m━━━━━━━━━━━━━━━━━━━━\u001b[0m\u001b[37m\u001b[0m \u001b[1m135s\u001b[0m 9s/step - accuracy: 0.4870 - loss: 0.7061 - val_accuracy: 0.4933 - val_loss: 0.6894\n",
      "Epoch 2/10\n",
      "\u001b[1m14/14\u001b[0m \u001b[32m━━━━━━━━━━━━━━━━━━━━\u001b[0m\u001b[37m\u001b[0m \u001b[1m139s\u001b[0m 10s/step - accuracy: 0.4998 - loss: 0.6808 - val_accuracy: 0.5973 - val_loss: 0.6737\n",
      "Epoch 3/10\n",
      "\u001b[1m14/14\u001b[0m \u001b[32m━━━━━━━━━━━━━━━━━━━━\u001b[0m\u001b[37m\u001b[0m \u001b[1m126s\u001b[0m 9s/step - accuracy: 0.5969 - loss: 0.6540 - val_accuracy: 0.5787 - val_loss: 0.6595\n",
      "Epoch 4/10\n",
      "\u001b[1m14/14\u001b[0m \u001b[32m━━━━━━━━━━━━━━━━━━━━\u001b[0m\u001b[37m\u001b[0m \u001b[1m141s\u001b[0m 9s/step - accuracy: 0.6371 - loss: 0.6350 - val_accuracy: 0.6027 - val_loss: 0.6439\n",
      "Epoch 5/10\n",
      "\u001b[1m14/14\u001b[0m \u001b[32m━━━━━━━━━━━━━━━━━━━━\u001b[0m\u001b[37m\u001b[0m \u001b[1m139s\u001b[0m 9s/step - accuracy: 0.6244 - loss: 0.6179 - val_accuracy: 0.6027 - val_loss: 0.6381\n",
      "Epoch 6/10\n",
      "\u001b[1m14/14\u001b[0m \u001b[32m━━━━━━━━━━━━━━━━━━━━\u001b[0m\u001b[37m\u001b[0m \u001b[1m126s\u001b[0m 9s/step - accuracy: 0.6372 - loss: 0.6195 - val_accuracy: 0.6347 - val_loss: 0.6425\n",
      "Epoch 7/10\n",
      "\u001b[1m14/14\u001b[0m \u001b[32m━━━━━━━━━━━━━━━━━━━━\u001b[0m\u001b[37m\u001b[0m \u001b[1m129s\u001b[0m 9s/step - accuracy: 0.6526 - loss: 0.6083 - val_accuracy: 0.6853 - val_loss: 0.5922\n",
      "Epoch 8/10\n",
      "\u001b[1m14/14\u001b[0m \u001b[32m━━━━━━━━━━━━━━━━━━━━\u001b[0m\u001b[37m\u001b[0m \u001b[1m138s\u001b[0m 9s/step - accuracy: 0.7156 - loss: 0.5588 - val_accuracy: 0.7120 - val_loss: 0.5836\n",
      "Epoch 9/10\n",
      "\u001b[1m14/14\u001b[0m \u001b[32m━━━━━━━━━━━━━━━━━━━━\u001b[0m\u001b[37m\u001b[0m \u001b[1m127s\u001b[0m 9s/step - accuracy: 0.7211 - loss: 0.5270 - val_accuracy: 0.7387 - val_loss: 0.5517\n",
      "Epoch 10/10\n",
      "\u001b[1m14/14\u001b[0m \u001b[32m━━━━━━━━━━━━━━━━━━━━\u001b[0m\u001b[37m\u001b[0m \u001b[1m152s\u001b[0m 10s/step - accuracy: 0.7674 - loss: 0.4727 - val_accuracy: 0.7307 - val_loss: 0.5815\n"
     ]
    }
   ],
   "source": [
    "model.compile(loss='categorical_crossentropy',\n",
    "              optimizer='adam',\n",
    "              metrics=['accuracy'])\n",
    "history = model.fit(x_train, y_train,\n",
    "                    batch_size=128,\n",
    "                    epochs=10,\n",
    "                    validation_data=(x_val, y_val))"
   ]
  },
  {
   "cell_type": "markdown",
   "metadata": {
    "id": "4UUZgnH54kIE"
   },
   "source": [
    "### Visualização da taxa de perdas e acertos\n",
    "\n",
    "Aqui, podemos ter um modelo visual da taxa de sucesso do nosso treinamento.\n"
   ]
  },
  {
   "cell_type": "code",
   "execution_count": null,
   "metadata": {
    "colab": {
     "base_uri": "https://localhost:8080/",
     "height": 282
    },
    "id": "EMn-HeoXgqCM",
    "outputId": "65e558c2-6d16-4fb1-c4d2-def9618531c6"
   },
   "outputs": [
    {
     "data": {
      "image/png": "[encoded data removed]",
      "text/plain": [
       "<Figure size 1600x400 with 2 Axes>"
      ]
     },
     "metadata": {},
     "output_type": "display_data"
    }
   ],
   "source": [
    "fig = plt.figure(figsize=(16,4))\n",
    "ax = fig.add_subplot(121)\n",
    "ax.plot(history.history[\"val_loss\"])\n",
    "ax.set_title(\"validation loss\")\n",
    "ax.set_xlabel(\"epochs\")\n",
    "ax2 = fig.add_subplot(122)\n",
    "ax2.plot(history.history[\"accuracy\"])\n",
    "ax2.set_title(\"validation accuracy\")\n",
    "ax2.set_xlabel(\"epochs\")\n",
    "ax2.set_ylim(0, 1)\n",
    "plt.show()"
   ]
  },
  {
   "cell_type": "code",
   "execution_count": null,
   "metadata": {
    "colab": {
     "base_uri": "https://localhost:8080/"
    },
    "id": "5gpDr1FRgrZH",
    "outputId": "b2b82266-fe7b-4e0f-e6a9-60756b20838a"
   },
   "outputs": [
    {
     "name": "stdout",
     "output_type": "stream",
     "text": [
      "Perdas em teste: 0.5779708623886108\n",
      "Acertos em teste: 0.7226666808128357\n"
     ]
    }
   ],
   "source": [
    "loss, accuracy = model.evaluate(x_test, y_test, verbose=0)\n",
    "print('Perdas em teste:', loss)\n",
    "print('Acertos em teste:', accuracy)"
   ]
  }
 ],
 "metadata": {
  "colab": {
   "include_colab_link": true,
   "provenance": []
  },
  "kernelspec": {
   "display_name": "Python 3",
   "name": "python3"
  },
  "language_info": {
   "name": "python"
  }
 },
 "nbformat": 4,
 "nbformat_minor": 0
}
